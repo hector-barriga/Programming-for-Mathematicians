{
 "cells": [
  {
   "cell_type": "markdown",
   "metadata": {},
   "source": [
    "# Introducción a SAGE\n",
    "- [Sage](https://www.sagemath.org) es un programa libre, de fuente abierta, para hacer matemáticas. Compite con mathematica, maple, etc.\n",
    "\n",
    "- [Jupyter Lab](https://jupyter.org/) (o simplemente jupyter) es un programa que permite usar tu navegador como interfaz para escribir código, texto, ecuaciones, imágenes, etc. Es increíblemente útil en la programación exploratoria.\n",
    "\n",
    "Puedes escribir comandos. Si aprietas ENTER, pasas a la siguiente línea. Si aprietas SHIFT-ENTER, se ejecuta el comando\n"
   ]
  },
  {
   "cell_type": "code",
   "execution_count": null,
   "metadata": {},
   "outputs": [],
   "source": [
    "4+6"
   ]
  },
  {
   "cell_type": "markdown",
   "metadata": {},
   "source": [
    "En jupyter hay 2 modos: editar, y comandos:\n",
    "\n",
    "- Para editar, simplemente pícale dentro de una celda, o aprieta ENTER.\n",
    "- Para comandos, aprieta ESC.\n",
    "\n",
    "Cada \"celda\" puede contener código o markdown. Para convertir una celda a código, en modo comando aprieta Y. Para convertirla en markdown, aprieta M.\n",
    "\n",
    "Para crear una nueva celda, en modo comando aprieta \"A\". Para borrar, aprieta \"D\" dos veces."
   ]
  },
  {
   "cell_type": "code",
   "execution_count": null,
   "metadata": {},
   "outputs": [],
   "source": [
    "print(\"Hola mundo!\")"
   ]
  },
  {
   "cell_type": "code",
   "execution_count": null,
   "metadata": {},
   "outputs": [],
   "source": [
    "\"Hola mundo!\""
   ]
  }
 ],
 "metadata": {
  "kernelspec": {
   "display_name": "SageMath 9.0",
   "language": "sage",
   "name": "sagemath"
  },
  "language_info": {
   "codemirror_mode": {
    "name": "ipython",
    "version": 3
   },
   "file_extension": ".py",
   "mimetype": "text/x-python",
   "name": "python",
   "nbconvert_exporter": "python",
   "pygments_lexer": "ipython3",
   "version": "3.8.1"
  }
 },
 "nbformat": 4,
 "nbformat_minor": 4
}
