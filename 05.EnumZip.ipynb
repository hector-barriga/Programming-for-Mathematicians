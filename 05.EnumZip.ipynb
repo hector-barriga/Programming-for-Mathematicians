{
 "cells": [
  {
   "cell_type": "markdown",
   "metadata": {},
   "source": [
    "# Técnicas para tener código más bonito: `enumerate`, `*`, `zip`\n",
    "\n",
    "\n",
    "## Intro\n",
    "En general es **mucho mejor** iterar directamente sobre una lista (string, etc.) que sobre los índices de esa lista. Es decir, es mejor esto:"
   ]
  },
  {
   "cell_type": "code",
   "execution_count": 1,
   "metadata": {},
   "outputs": [],
   "source": [
    "X = [0,1,2]"
   ]
  },
  {
   "cell_type": "code",
   "execution_count": 2,
   "metadata": {},
   "outputs": [
    {
     "name": "stdout",
     "output_type": "stream",
     "text": [
      "0\n",
      "1\n",
      "2\n"
     ]
    }
   ],
   "source": [
    "for x in X:\n",
    "    print(x)"
   ]
  },
  {
   "cell_type": "markdown",
   "metadata": {},
   "source": [
    "Que esto:"
   ]
  },
  {
   "cell_type": "code",
   "execution_count": 3,
   "metadata": {},
   "outputs": [
    {
     "name": "stdout",
     "output_type": "stream",
     "text": [
      "0\n",
      "1\n",
      "2\n"
     ]
    }
   ],
   "source": [
    "for i in range(len(X)):\n",
    "    print(X[i])"
   ]
  },
  {
   "cell_type": "markdown",
   "metadata": {},
   "source": [
    "## ¿Por qué podrías preferir los índices?\n",
    "\n",
    "Hay varias razones para usar los índices:\n",
    "\n",
    "1. A veces necesitas el índice, porque lo usas de cierta manera. Por ejemplo:"
   ]
  },
  {
   "cell_type": "code",
   "execution_count": 4,
   "metadata": {},
   "outputs": [],
   "source": [
    "for i in range(len(X)):\n",
    "    X[i] = i**2"
   ]
  },
  {
   "cell_type": "markdown",
   "metadata": {},
   "source": [
    "Es decir, si no usas el índice directamente, seguramente no lo necesitas."
   ]
  },
  {
   "cell_type": "markdown",
   "metadata": {},
   "source": [
    "2. Otra posible razón es que quieras modificar la lista:"
   ]
  },
  {
   "cell_type": "code",
   "execution_count": 5,
   "metadata": {},
   "outputs": [],
   "source": [
    "# No funciona como quisiéramos\n",
    "for x in X:\n",
    "    x += 10"
   ]
  },
  {
   "cell_type": "code",
   "execution_count": 6,
   "metadata": {},
   "outputs": [
    {
     "data": {
      "text/plain": [
       "[0, 1, 4]"
      ]
     },
     "execution_count": 6,
     "metadata": {},
     "output_type": "execute_result"
    }
   ],
   "source": [
    "X"
   ]
  },
  {
   "cell_type": "code",
   "execution_count": 7,
   "metadata": {},
   "outputs": [],
   "source": [
    "# Esto sí funciona!\n",
    "for i in range(len(X)):\n",
    "    X[i] += 10"
   ]
  },
  {
   "cell_type": "markdown",
   "metadata": {},
   "source": [
    "## `enumerate`\n",
    "\n",
    "Hay una mejor manera!"
   ]
  },
  {
   "cell_type": "code",
   "execution_count": 8,
   "metadata": {},
   "outputs": [
    {
     "name": "stdout",
     "output_type": "stream",
     "text": [
      "10 tiene índice 0\n",
      "11 tiene índice 1\n",
      "14 tiene índice 2\n"
     ]
    }
   ],
   "source": [
    "for i, x in enumerate(X):\n",
    "    print(f\"{x} tiene índice {i}\")"
   ]
  },
  {
   "cell_type": "markdown",
   "metadata": {},
   "source": [
    "Usar `for i in range(len(X))` básicamente nunca está bien. Siempre es mejor usar `enumerate`. Para modificar un elemento e la lista lo accesas con `[i]`, pero para usarlo simplemente accésalo con x."
   ]
  },
  {
   "cell_type": "code",
   "execution_count": 9,
   "metadata": {},
   "outputs": [],
   "source": [
    "for i, x in enumerate(X):\n",
    "    X[i] = (x+1)**2/8"
   ]
  },
  {
   "cell_type": "markdown",
   "metadata": {},
   "source": [
    "# Operador *\n",
    "\n",
    "Vimos que una función puede tomar dos o más parámetros. Por ejemplo:"
   ]
  },
  {
   "cell_type": "code",
   "execution_count": 10,
   "metadata": {},
   "outputs": [],
   "source": [
    "def desplegar_mensaje(texto, color):\n",
    "    # bla bla bla\n",
    "    print(f\"El texto '{texto}' es {color}\")"
   ]
  },
  {
   "cell_type": "markdown",
   "metadata": {},
   "source": [
    "Imaginemos ahora que tenemos otra función así:\n"
   ]
  },
  {
   "cell_type": "code",
   "execution_count": 11,
   "metadata": {},
   "outputs": [],
   "source": [
    "def ladrar():\n",
    "    return \"guau\", \"azul\""
   ]
  },
  {
   "cell_type": "markdown",
   "metadata": {},
   "source": [
    "¿Cómo le paso lo que reresa `ladrar` a `desplegar_mensaje`?\n",
    "\n",
    "Aquí hay una posiblidad:"
   ]
  },
  {
   "cell_type": "code",
   "execution_count": 12,
   "metadata": {},
   "outputs": [
    {
     "name": "stdout",
     "output_type": "stream",
     "text": [
      "El texto 'guau' es azul\n"
     ]
    }
   ],
   "source": [
    "ladrido = ladrar()\n",
    "desplegar_mensaje(ladrido[0], ladrido[1])"
   ]
  },
  {
   "cell_type": "markdown",
   "metadata": {},
   "source": [
    "Eso claramente está feíto. Otra posibilidad menos fea:"
   ]
  },
  {
   "cell_type": "code",
   "execution_count": 13,
   "metadata": {},
   "outputs": [
    {
     "name": "stdout",
     "output_type": "stream",
     "text": [
      "El texto 'guau' es azul\n"
     ]
    }
   ],
   "source": [
    "texto, color = ladrar()\n",
    "desplegar_mensaje(texto, color)"
   ]
  },
  {
   "cell_type": "markdown",
   "metadata": {},
   "source": [
    "Pero claro, si tuviéramos 15 parámetros, se empieza a complicar. Por esto hay el operador *:"
   ]
  },
  {
   "cell_type": "code",
   "execution_count": 14,
   "metadata": {},
   "outputs": [
    {
     "name": "stdout",
     "output_type": "stream",
     "text": [
      "El texto 'guau' es azul\n"
     ]
    }
   ],
   "source": [
    "desplegar_mensaje(*ladrar())"
   ]
  },
  {
   "cell_type": "markdown",
   "metadata": {},
   "source": [
    "Lo que hace el operador * es tomar una lista y \"desempaquetarla\" (i.e. quitarle los corchetes/paréntesis)"
   ]
  },
  {
   "cell_type": "code",
   "execution_count": 15,
   "metadata": {},
   "outputs": [
    {
     "ename": "SyntaxError",
     "evalue": "can't use starred expression here (<ipython-input-15-63179bdb9a80>, line 1)",
     "output_type": "error",
     "traceback": [
      "\u001b[0;36m  File \u001b[0;32m\"<ipython-input-15-63179bdb9a80>\"\u001b[0;36m, line \u001b[0;32m1\u001b[0m\n\u001b[0;31m    *[1,2,3]\u001b[0m\n\u001b[0m    ^\u001b[0m\n\u001b[0;31mSyntaxError\u001b[0m\u001b[0;31m:\u001b[0m can't use starred expression here\n"
     ]
    }
   ],
   "source": [
    "# Esto no sirve:\n",
    "*[1,2,3]"
   ]
  },
  {
   "cell_type": "code",
   "execution_count": 17,
   "metadata": {},
   "outputs": [],
   "source": [
    "def sumar(a,b,c):\n",
    "    return a+b+c"
   ]
  },
  {
   "cell_type": "code",
   "execution_count": 18,
   "metadata": {},
   "outputs": [
    {
     "data": {
      "text/plain": [
       "6"
      ]
     },
     "execution_count": 18,
     "metadata": {},
     "output_type": "execute_result"
    }
   ],
   "source": [
    "sumar(*[1,2,3])"
   ]
  },
  {
   "cell_type": "markdown",
   "metadata": {},
   "source": [
    "## zip\n",
    "\n",
    "zip es una función que toma dos listas y hace como si fuera un \"cierre\" (para iterar)"
   ]
  },
  {
   "cell_type": "code",
   "execution_count": 20,
   "metadata": {},
   "outputs": [],
   "source": [
    "A = [1,2,3,4]\n",
    "B = [\"uno\", \"dos\", \"tres\", \"cuatro\"]"
   ]
  },
  {
   "cell_type": "code",
   "execution_count": 21,
   "metadata": {},
   "outputs": [
    {
     "name": "stdout",
     "output_type": "stream",
     "text": [
      "(1, 'uno')\n",
      "(2, 'dos')\n",
      "(3, 'tres')\n",
      "(4, 'cuatro')\n"
     ]
    }
   ],
   "source": [
    "for x in zip(A,B):\n",
    "    print(x)"
   ]
  },
  {
   "cell_type": "markdown",
   "metadata": {},
   "source": [
    "Usualmente más bien algo así:"
   ]
  },
  {
   "cell_type": "code",
   "execution_count": 22,
   "metadata": {},
   "outputs": [
    {
     "name": "stdout",
     "output_type": "stream",
     "text": [
      "1 uno\n",
      "2 dos\n",
      "3 tres\n",
      "4 cuatro\n"
     ]
    }
   ],
   "source": [
    "for a,b in zip(A,B):\n",
    "    print(a,b)"
   ]
  },
  {
   "cell_type": "markdown",
   "metadata": {},
   "source": [
    "Por ejemplo, `enumerate` en realidad podría ser visto como un `zip` de un `range` con una colección:"
   ]
  },
  {
   "cell_type": "code",
   "execution_count": 23,
   "metadata": {},
   "outputs": [],
   "source": [
    "def mi_enumerate(X):\n",
    "    return zip(range(len(X)), X)"
   ]
  },
  {
   "cell_type": "code",
   "execution_count": 24,
   "metadata": {},
   "outputs": [
    {
     "name": "stdout",
     "output_type": "stream",
     "text": [
      "0 15.125\n",
      "1 18.0\n",
      "2 28.125\n"
     ]
    }
   ],
   "source": [
    "for i,x in enumerate(X):\n",
    "    print(i,x)"
   ]
  },
  {
   "cell_type": "markdown",
   "metadata": {},
   "source": [
    "### Ejercicios\n",
    "\n",
    "1. Crea una función \"unzip\": Le pasas una lista de parejas y quiero que me regrese una pareja de colecciones.\n",
    "2. Crea la función anterior en una sola línea usando * y zip."
   ]
  }
 ],
 "metadata": {
  "kernelspec": {
   "display_name": "Python 3",
   "language": "python",
   "name": "python3"
  },
  "language_info": {
   "codemirror_mode": {
    "name": "ipython",
    "version": 3
   },
   "file_extension": ".py",
   "mimetype": "text/x-python",
   "name": "python",
   "nbconvert_exporter": "python",
   "pygments_lexer": "ipython3",
   "version": "3.8.1"
  }
 },
 "nbformat": 4,
 "nbformat_minor": 4
}
