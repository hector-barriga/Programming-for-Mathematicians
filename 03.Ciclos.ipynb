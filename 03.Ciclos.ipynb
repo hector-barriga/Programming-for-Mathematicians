{
 "cells": [
  {
   "cell_type": "markdown",
   "metadata": {},
   "source": [
    "# Ciclos\n",
    "\n",
    "for, while.\n",
    "\n",
    "Un \"ciclo\" es un bloque de código que tiene la capacidad de regresar a una línea anterior."
   ]
  },
  {
   "cell_type": "code",
   "execution_count": null,
   "metadata": {},
   "outputs": [],
   "source": [
    "palabras = ['hola', 'mundo', 'adios']\n",
    "for palabra in palabras:\n",
    "    print(\"La palabra es:\", palabra)"
   ]
  },
  {
   "cell_type": "code",
   "execution_count": null,
   "metadata": {},
   "outputs": [],
   "source": [
    "for palabra in palabras:\n",
    "    print(f\"Esta linea se va a ejecutar {len(palabras)} veces!\")"
   ]
  },
  {
   "cell_type": "code",
   "execution_count": null,
   "metadata": {},
   "outputs": [],
   "source": [
    "for i in range(3):\n",
    "    print(i)"
   ]
  },
  {
   "cell_type": "markdown",
   "metadata": {},
   "source": [
    "## Ejercicios: \n",
    "\n",
    "1. Crea un programa que imprima tu nombre 10 veces.\n",
    "2. Crea un programa que imprima 0,1,0,1, etc. $n$ veces\n",
    "3. Crea un programa que imprima las primeras $n$ potencias de 2. No se vale usar **."
   ]
  },
  {
   "cell_type": "markdown",
   "metadata": {},
   "source": [
    "## continue, break\n",
    "\n",
    "Podemos controlar los ciclos dentro de el mismo bloque con los comandos `continue` y `break`."
   ]
  },
  {
   "cell_type": "code",
   "execution_count": null,
   "metadata": {},
   "outputs": [],
   "source": [
    "for i in range(10):\n",
    "    if i == 5:\n",
    "        break\n",
    "    print(i)"
   ]
  },
  {
   "cell_type": "code",
   "execution_count": null,
   "metadata": {},
   "outputs": [],
   "source": [
    "for i in range(10):\n",
    "    if i == 5:\n",
    "        continue\n",
    "    print(i)"
   ]
  },
  {
   "cell_type": "markdown",
   "metadata": {},
   "source": [
    "## while\n",
    "\n",
    "while significa \"mientras\". Se usa así:\n",
    "```\n",
    "    while condicion:\n",
    "        bla bla bla\n",
    "```"
   ]
  },
  {
   "cell_type": "code",
   "execution_count": null,
   "metadata": {},
   "outputs": [],
   "source": [
    "while False:\n",
    "    print(\"Esto nunca ocurrirá!\")"
   ]
  },
  {
   "cell_type": "code",
   "execution_count": null,
   "metadata": {},
   "outputs": [],
   "source": [
    "while True:\n",
    "    print(\"Esto nunca ocurrirá porque no le voy a picar \" \n",
    "          \"porque no quiero que se trabe la computadora!\")"
   ]
  },
  {
   "cell_type": "code",
   "execution_count": null,
   "metadata": {},
   "outputs": [],
   "source": [
    "i = 1\n",
    "while i < 500000:\n",
    "    print(i)\n",
    "    i *= 2"
   ]
  },
  {
   "cell_type": "code",
   "execution_count": null,
   "metadata": {},
   "outputs": [],
   "source": [
    "a = 0.0\n",
    "b = 2.0\n",
    "epsilon = 1e-8\n",
    "while a + epsilon < b:\n",
    "    m = (a+b)/2\n",
    "    if m*m < 2: a = m\n",
    "    else: b = m"
   ]
  },
  {
   "cell_type": "markdown",
   "metadata": {},
   "source": [
    "## Ejercicios:\n",
    "\n",
    "1. Suma los cubos de los primeros $n$ números SIN formulita.\n",
    "2. Dado un número $n$, imprime la sucesión de Collatz para ese número.\n",
    "3. Dado un número $n$, imprime la sucesión de Fibonacci para ese número.\n",
    "4. Dadas dos palabras, determina si la 1a es subsecuencia de la 2da.\n",
    "5. Dadas dos palabras, imprime la máxima cadena inicial común.\n",
    "6. (opcional) Imprime los primeros $n$ primos."
   ]
  },
  {
   "cell_type": "code",
   "execution_count": null,
   "metadata": {},
   "outputs": [],
   "source": [
    "\"ho\" in \"hola\""
   ]
  },
  {
   "cell_type": "code",
   "execution_count": null,
   "metadata": {},
   "outputs": [],
   "source": [
    "a = \"horoscopo\"\n",
    "b = \"hola\"\n",
    "resultado = \"\"\n",
    "for i in range(min(len(a),len(b))):\n",
    "    if a[i] != b[i]:\n",
    "        break\n",
    "    else:\n",
    "        resultado += a[i]\n"
   ]
  },
  {
   "cell_type": "code",
   "execution_count": null,
   "metadata": {},
   "outputs": [],
   "source": [
    "print(resultado)"
   ]
  },
  {
   "cell_type": "code",
   "execution_count": null,
   "metadata": {},
   "outputs": [],
   "source": [
    "n = 100"
   ]
  },
  {
   "cell_type": "code",
   "execution_count": null,
   "metadata": {},
   "outputs": [],
   "source": [
    "import math"
   ]
  },
  {
   "cell_type": "code",
   "execution_count": null,
   "metadata": {},
   "outputs": [],
   "source": [
    "primos = [2]\n",
    "m = 3\n",
    "while len(primos) < n:\n",
    "    fue_primo = True\n",
    "    for p in primos:\n",
    "        if p*p > m: \n",
    "            break\n",
    "        if m%p == 0:\n",
    "            fue_primo = False\n",
    "            break\n",
    "    if fue_primo:\n",
    "        primos += [m]\n",
    "    m += 2\n",
    "    print(m,len(primos))"
   ]
  },
  {
   "cell_type": "code",
   "execution_count": null,
   "metadata": {},
   "outputs": [],
   "source": [
    "n=100\n",
    "L=[i for i in range(n)]\n",
    "for i in L:\n",
    "    if L[i]!=0 and L[i]!=1:\n",
    "        for j in range(2,n//i+1):\n",
    "            if i*j<n:\n",
    "                L[i*j]=0\n",
    "M=[L[i] for i in range(n) if L[i]!=0 and L[i]!=1]\n",
    "print(M)"
   ]
  },
  {
   "cell_type": "code",
   "execution_count": null,
   "metadata": {},
   "outputs": [],
   "source": [
    "[m for m in range(2,100) if m not in [a*b for a in range(2,100) for b in range(2,100)]]"
   ]
  },
  {
   "cell_type": "code",
   "execution_count": null,
   "metadata": {},
   "outputs": [],
   "source": [
    "L = [1,4,33,8,34,3,656,45,645,6]"
   ]
  },
  {
   "cell_type": "code",
   "execution_count": null,
   "metadata": {},
   "outputs": [],
   "source": [
    "L"
   ]
  },
  {
   "cell_type": "code",
   "execution_count": null,
   "metadata": {},
   "outputs": [],
   "source": [
    "M=L[:-4000]"
   ]
  },
  {
   "cell_type": "code",
   "execution_count": null,
   "metadata": {},
   "outputs": [],
   "source": [
    "M"
   ]
  },
  {
   "cell_type": "code",
   "execution_count": null,
   "metadata": {},
   "outputs": [],
   "source": []
  }
 ],
 "metadata": {
  "kernelspec": {
   "display_name": "Python 3",
   "language": "python",
   "name": "python3"
  },
  "language_info": {
   "codemirror_mode": {
    "name": "ipython",
    "version": 3
   },
   "file_extension": ".py",
   "mimetype": "text/x-python",
   "name": "python",
   "nbconvert_exporter": "python",
   "pygments_lexer": "ipython3",
   "version": "3.8.1"
  }
 },
 "nbformat": 4,
 "nbformat_minor": 4
}
